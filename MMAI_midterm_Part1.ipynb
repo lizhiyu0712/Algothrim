{
 "cells": [
  {
   "cell_type": "markdown",
   "id": "16a11a23",
   "metadata": {},
   "source": [
    "# Part 1"
   ]
  },
  {
   "cell_type": "markdown",
   "id": "e7f9d64e",
   "metadata": {},
   "source": [
    "## Question 1"
   ]
  },
  {
   "cell_type": "markdown",
   "id": "ab845b34",
   "metadata": {},
   "source": [
    "### Part A"
   ]
  },
  {
   "cell_type": "code",
   "execution_count": 1,
   "id": "901e27da",
   "metadata": {},
   "outputs": [
    {
     "name": "stdout",
     "output_type": "stream",
     "text": [
      "Matrix B:\n",
      " [[ 1  2 -1]\n",
      " [-1  1  2]\n",
      " [ 0  1  1]]\n",
      "Eigenvalues of matrix B:\n",
      " [0.5+0.8660254j 0.5-0.8660254j 2. +0.j       ]\n",
      "Eigenvectors of matrix B:\n",
      " [[ 0.8819171 +0.j          0.8819171 -0.j          0.57735027+0.j        ]\n",
      " [-0.06299408+0.32732684j -0.06299408-0.32732684j  0.57735027+0.j        ]\n",
      " [ 0.31497039-0.10910895j  0.31497039+0.10910895j  0.57735027+0.j        ]]\n"
     ]
    }
   ],
   "source": [
    "# importing numpy library\n",
    "import numpy as np\n",
    "  \n",
    "# create matrix B\n",
    "b = np.array([[1, 2, -1],\n",
    "              [-1, 1, 2],\n",
    "              [0, 1, 1]])\n",
    "  \n",
    "print(\"Matrix B:\\n\",b)\n",
    "\n",
    "# finding eigenvalues and eigenvectors\n",
    "w, v = np.linalg.eig(b)\n",
    "  \n",
    "# printing eigen values\n",
    "print(\"Eigenvalues of matrix B:\\n\",w)\n",
    "  \n",
    "# printing eigen vectors\n",
    "print(\"Eigenvectors of matrix B:\\n\",v)"
   ]
  },
  {
   "cell_type": "markdown",
   "id": "d988d97a",
   "metadata": {},
   "source": [
    "### Part B "
   ]
  },
  {
   "cell_type": "code",
   "execution_count": 2,
   "id": "f495df85",
   "metadata": {},
   "outputs": [
    {
     "name": "stdout",
     "output_type": "stream",
     "text": [
      "Actual inverse of matrix B:\n",
      " [[-0.5 -1.5  2.5]\n",
      " [ 0.5  0.5 -0.5]\n",
      " [-0.5 -0.5  1.5]]\n"
     ]
    }
   ],
   "source": [
    "# Calculate X inverse\n",
    "inv_X = np.linalg.inv(v)\n",
    "\n",
    "# Calculate diagnoal matrix\n",
    "Λ = np.diag(w)\n",
    "\n",
    "# Calculate invert Λ\n",
    "inv_Λ = np.linalg.inv(Λ)\n",
    "\n",
    "# Check with the actual inverse\n",
    "print(\"Actual inverse of matrix B:\\n\",np.linalg.inv(b))"
   ]
  },
  {
   "cell_type": "code",
   "execution_count": 3,
   "id": "af790255",
   "metadata": {},
   "outputs": [
    {
     "name": "stdout",
     "output_type": "stream",
     "text": [
      "Calculate inverse by using eign decomposition formula:\n",
      " [[-0.5+1.31838984e-16j -1.5+1.17961196e-16j  2.5-3.53883589e-16j]\n",
      " [ 0.5-3.46944695e-17j  0.5-1.04083409e-16j -0.5+2.01227923e-16j]\n",
      " [-0.5+2.08166817e-17j -0.5+6.93889390e-18j  1.5-7.63278329e-17j]]\n"
     ]
    }
   ],
   "source": [
    "# Calculate invert matrix B\n",
    "inv_B = np.linalg.pinv(np.dot(np.dot(v,Λ),inv_X))\n",
    "print(\"Calculate inverse by using eign decomposition formula:\\n\", inv_B)"
   ]
  },
  {
   "cell_type": "markdown",
   "id": "832694b6",
   "metadata": {},
   "source": [
    "## Question 2"
   ]
  },
  {
   "cell_type": "markdown",
   "id": "e3e37dd1",
   "metadata": {},
   "source": [
    "### Part A"
   ]
  },
  {
   "cell_type": "code",
   "execution_count": 4,
   "id": "6d2e8af8",
   "metadata": {},
   "outputs": [],
   "source": [
    "# Importing Packages\n",
    "import numpy as np\n",
    "import matplotlib.pyplot as plt\n",
    "\n",
    "# Defining Equation and Derivative\n",
    "def f(x):\n",
    "    res = 16*x**3 + 8*x-20\n",
    "    return res\n",
    " \n",
    "def dfdx(x):\n",
    "    res = 48*x**2 + 8\n",
    "    return res\n",
    "\n",
    "# Newton-Raphson Algorithm\n",
    "def Newton_Method(tol,x0):\n",
    "    max_iter = 10  # Max iterations\n",
    "    i = 0  # Iteration counter\n",
    "    xi_1 = x0\n",
    "    print('Iteration' + str(i) +  ': x = ' + str(x0) + ', f(x) = ' + str(f(x0)))\n",
    "    # Iterating until either the tolerance or max iterations is met\n",
    "    while abs(f(xi_1)) > tol or i > max_iter:\n",
    "        i = i + 1\n",
    "        xi = xi_1-f(xi_1)/dfdx(xi_1)  # Newton-Raphson equation\n",
    "        print('Iteration' + str(i) + ': x = ' + str(xi) + ', f(x) = ' + str(f(xi)))\n",
    "        xi_1 = xi \n",
    "    print(\"The local minimum is\", xi)"
   ]
  },
  {
   "cell_type": "markdown",
   "id": "4a17e61f",
   "metadata": {},
   "source": [
    "### Part B"
   ]
  },
  {
   "cell_type": "code",
   "execution_count": 5,
   "id": "a9bd436c",
   "metadata": {},
   "outputs": [],
   "source": [
    "def Gradient_Descent(precision, rate, cur_x): #tolerance, learning_rate, initial_val\n",
    "    previous_step_size = 1 \n",
    "    max_iters = 10000 # maximum number of iterations\n",
    "    iters = 0 #iteration counter\n",
    "    df = lambda x: 16*x**3+8*x-20 #Gradient of our function \n",
    "\n",
    "    while previous_step_size > precision and iters < max_iters:\n",
    "        prev_x = cur_x #Store current x value in prev_x\n",
    "        cur_x = cur_x - rate * df(prev_x) #Grad descent\n",
    "        previous_step_size = abs(cur_x - prev_x) #Change in x\n",
    "        iters = iters+1 #iteration count\n",
    "    print(\"Iteration\",iters) #Print iterations   \n",
    "    print(\"The local minimum occurs at\", cur_x)"
   ]
  },
  {
   "cell_type": "markdown",
   "id": "c3537c4d",
   "metadata": {},
   "source": [
    "### Part C"
   ]
  },
  {
   "cell_type": "code",
   "execution_count": 6,
   "id": "3de1d50e",
   "metadata": {},
   "outputs": [
    {
     "name": "stdout",
     "output_type": "stream",
     "text": [
      "!!!!!Newton's method!!!!!\n",
      "Iteration0: x = 1, f(x) = 4\n",
      "Iteration1: x = 0.9285714285714286, f(x) = 0.23906705539358697\n",
      "Iteration2: x = 0.9237308146399056, f(x) = 0.001042562586704321\n",
      "Iteration3: x = 0.9237095193270902, f(x) = 2.010718702649683e-08\n",
      "The local minimum is 0.9237095193270902\n"
     ]
    }
   ],
   "source": [
    "# Newton-Raphson Algorithm\n",
    "print(\"!!!!!Newton's method!!!!!\")\n",
    "Newton_Method(0.00001,1)"
   ]
  },
  {
   "cell_type": "code",
   "execution_count": 7,
   "id": "c3b53580",
   "metadata": {},
   "outputs": [
    {
     "name": "stdout",
     "output_type": "stream",
     "text": [
      "!!!!!Gradient descent!!!!!\n",
      "Iteration 14\n",
      "The local minimum occurs at 0.9237149544016079\n"
     ]
    }
   ],
   "source": [
    "# Gradient descent\n",
    "print(\"!!!!!Gradient descent!!!!!\")\n",
    "Gradient_Descent(0.00001, 0.01, 1)"
   ]
  }
 ],
 "metadata": {
  "kernelspec": {
   "display_name": "Python 3 (ipykernel)",
   "language": "python",
   "name": "python3"
  },
  "language_info": {
   "codemirror_mode": {
    "name": "ipython",
    "version": 3
   },
   "file_extension": ".py",
   "mimetype": "text/x-python",
   "name": "python",
   "nbconvert_exporter": "python",
   "pygments_lexer": "ipython3",
   "version": "3.8.8"
  }
 },
 "nbformat": 4,
 "nbformat_minor": 5
}
