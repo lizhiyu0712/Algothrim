{
 "cells": [
  {
   "cell_type": "markdown",
   "id": "3950e385",
   "metadata": {},
   "source": [
    "# Part 2"
   ]
  },
  {
   "cell_type": "markdown",
   "id": "363e404a",
   "metadata": {},
   "source": [
    "### Question 1"
   ]
  },
  {
   "cell_type": "code",
   "execution_count": 1,
   "id": "5fd98745",
   "metadata": {},
   "outputs": [],
   "source": [
    "# importing numpy library\n",
    "import numpy as np\n",
    "\n",
    "# Load in Y,X,L\n",
    "Y = np.matrix([112, 107, 103, 91, 85, 84, 85, 79, 81, 134, 86, 99, 89, 111, 114, 118, 163, 193, 143, 144, 202, 158, 160, 144])\n",
    "X = np.matrix([100, 112, 107, 103, 91, 85, 84, 85, 79, 81, 134, 86, 99, 89, 111, 114, 118, 163, 193, 143, 144, 202, 158, 160])\n",
    "L = np.matrix([30, 75, 64, 41, 51, 42, 51, 57, 49, 134, 52, 99, 56, 81, 79, 73, 163, 193, 99, 91, 202, 105, 101, 96])\n",
    "\n",
    "# Reshape Y\n",
    "Y = Y.reshape(-1,1)\n",
    "\n",
    "# Reshape L\n",
    "L = L.reshape(-1,1)\n",
    "\n",
    "# Reshape X\n",
    "ones = np.ones(24).reshape(-1,1)\n",
    "X = X.reshape(-1,1)\n",
    "X = np.hstack((ones,X))\n",
    "X = np.hstack((X,L))"
   ]
  },
  {
   "cell_type": "code",
   "execution_count": 2,
   "id": "34eb0187",
   "metadata": {},
   "outputs": [],
   "source": [
    "# Calculate the value for lambda\n",
    "lambda_val = np.dot(2*np.linalg.pinv(np.dot(np.dot(X,np.linalg.pinv(np.dot(X.transpose(),X))),X.transpose())),L)-2*Y\n",
    "\n",
    "# Calculate the value for beta\n",
    "beta_val = np.dot(np.linalg.pinv(np.dot(X.transpose(),X)),(np.dot(X.transpose(),Y)+np.dot(0.5*X.transpose(),lambda_val)))"
   ]
  },
  {
   "cell_type": "code",
   "execution_count": 3,
   "id": "2cb1e2e6",
   "metadata": {},
   "outputs": [
    {
     "name": "stdout",
     "output_type": "stream",
     "text": [
      "!!!!!Reshaped Y value!!!!!\n"
     ]
    },
    {
     "data": {
      "text/plain": [
       "matrix([[112],\n",
       "        [107],\n",
       "        [103],\n",
       "        [ 91],\n",
       "        [ 85],\n",
       "        [ 84],\n",
       "        [ 85],\n",
       "        [ 79],\n",
       "        [ 81],\n",
       "        [134],\n",
       "        [ 86],\n",
       "        [ 99],\n",
       "        [ 89],\n",
       "        [111],\n",
       "        [114],\n",
       "        [118],\n",
       "        [163],\n",
       "        [193],\n",
       "        [143],\n",
       "        [144],\n",
       "        [202],\n",
       "        [158],\n",
       "        [160],\n",
       "        [144]])"
      ]
     },
     "execution_count": 3,
     "metadata": {},
     "output_type": "execute_result"
    }
   ],
   "source": [
    "# Print Reshaped Y\n",
    "print(\"!!!!!Reshaped Y value!!!!!\")\n",
    "Y "
   ]
  },
  {
   "cell_type": "code",
   "execution_count": 4,
   "id": "50b7ad1f",
   "metadata": {},
   "outputs": [
    {
     "name": "stdout",
     "output_type": "stream",
     "text": [
      "!!!!!Reshaped L value!!!!!\n"
     ]
    },
    {
     "data": {
      "text/plain": [
       "matrix([[ 30],\n",
       "        [ 75],\n",
       "        [ 64],\n",
       "        [ 41],\n",
       "        [ 51],\n",
       "        [ 42],\n",
       "        [ 51],\n",
       "        [ 57],\n",
       "        [ 49],\n",
       "        [134],\n",
       "        [ 52],\n",
       "        [ 99],\n",
       "        [ 56],\n",
       "        [ 81],\n",
       "        [ 79],\n",
       "        [ 73],\n",
       "        [163],\n",
       "        [193],\n",
       "        [ 99],\n",
       "        [ 91],\n",
       "        [202],\n",
       "        [105],\n",
       "        [101],\n",
       "        [ 96]])"
      ]
     },
     "execution_count": 4,
     "metadata": {},
     "output_type": "execute_result"
    }
   ],
   "source": [
    "# Print reshaped L\n",
    "print(\"!!!!!Reshaped L value!!!!!\")\n",
    "L"
   ]
  },
  {
   "cell_type": "code",
   "execution_count": 5,
   "id": "41a9aaea",
   "metadata": {},
   "outputs": [
    {
     "name": "stdout",
     "output_type": "stream",
     "text": [
      "!!!!!Reshaped X value!!!!!\n"
     ]
    },
    {
     "data": {
      "text/plain": [
       "matrix([[  1., 100.,  30.],\n",
       "        [  1., 112.,  75.],\n",
       "        [  1., 107.,  64.],\n",
       "        [  1., 103.,  41.],\n",
       "        [  1.,  91.,  51.],\n",
       "        [  1.,  85.,  42.],\n",
       "        [  1.,  84.,  51.],\n",
       "        [  1.,  85.,  57.],\n",
       "        [  1.,  79.,  49.],\n",
       "        [  1.,  81., 134.],\n",
       "        [  1., 134.,  52.],\n",
       "        [  1.,  86.,  99.],\n",
       "        [  1.,  99.,  56.],\n",
       "        [  1.,  89.,  81.],\n",
       "        [  1., 111.,  79.],\n",
       "        [  1., 114.,  73.],\n",
       "        [  1., 118., 163.],\n",
       "        [  1., 163., 193.],\n",
       "        [  1., 193.,  99.],\n",
       "        [  1., 143.,  91.],\n",
       "        [  1., 144., 202.],\n",
       "        [  1., 202., 105.],\n",
       "        [  1., 158., 101.],\n",
       "        [  1., 160.,  96.]])"
      ]
     },
     "execution_count": 5,
     "metadata": {},
     "output_type": "execute_result"
    }
   ],
   "source": [
    "# Print reshaped X\n",
    "print(\"!!!!!Reshaped X value!!!!!\")\n",
    "X"
   ]
  },
  {
   "cell_type": "code",
   "execution_count": 6,
   "id": "ebda3847",
   "metadata": {},
   "outputs": [
    {
     "name": "stdout",
     "output_type": "stream",
     "text": [
      "!!!!!Lambda value!!!!!\n"
     ]
    },
    {
     "data": {
      "text/plain": [
       "matrix([[-1.64000000e+02],\n",
       "        [-6.40000000e+01],\n",
       "        [-7.80000000e+01],\n",
       "        [-1.00000000e+02],\n",
       "        [-6.80000000e+01],\n",
       "        [-8.40000000e+01],\n",
       "        [-6.80000000e+01],\n",
       "        [-4.40000000e+01],\n",
       "        [-6.40000000e+01],\n",
       "        [ 2.50111043e-12],\n",
       "        [-6.80000000e+01],\n",
       "        [ 2.50111043e-12],\n",
       "        [-6.60000000e+01],\n",
       "        [-6.00000000e+01],\n",
       "        [-7.00000000e+01],\n",
       "        [-9.00000000e+01],\n",
       "        [ 4.54747351e-13],\n",
       "        [-2.04636308e-12],\n",
       "        [-8.80000000e+01],\n",
       "        [-1.06000000e+02],\n",
       "        [-1.19371180e-12],\n",
       "        [-1.06000000e+02],\n",
       "        [-1.18000000e+02],\n",
       "        [-9.60000000e+01]])"
      ]
     },
     "execution_count": 6,
     "metadata": {},
     "output_type": "execute_result"
    }
   ],
   "source": [
    "# Print lambda value\n",
    "print(\"!!!!!Lambda value!!!!!\")\n",
    "lambda_val"
   ]
  },
  {
   "cell_type": "code",
   "execution_count": 7,
   "id": "5337b4bd",
   "metadata": {},
   "outputs": [
    {
     "name": "stdout",
     "output_type": "stream",
     "text": [
      "!!!!!Beta value!!!!!\n"
     ]
    },
    {
     "data": {
      "text/plain": [
       "matrix([[ 3.41060513e-13],\n",
       "        [-1.77635684e-15],\n",
       "        [ 1.00000000e+00]])"
      ]
     },
     "execution_count": 7,
     "metadata": {},
     "output_type": "execute_result"
    }
   ],
   "source": [
    "# Print beta value\n",
    "print(\"!!!!!Beta value!!!!!\")\n",
    "beta_val"
   ]
  },
  {
   "cell_type": "code",
   "execution_count": 8,
   "id": "0454f7e2",
   "metadata": {},
   "outputs": [
    {
     "name": "stdout",
     "output_type": "stream",
     "text": [
      "!!!!!New lambda value!!!!!\n"
     ]
    },
    {
     "data": {
      "text/plain": [
       "matrix([[0.00000000e+00],\n",
       "        [0.00000000e+00],\n",
       "        [0.00000000e+00],\n",
       "        [0.00000000e+00],\n",
       "        [0.00000000e+00],\n",
       "        [0.00000000e+00],\n",
       "        [0.00000000e+00],\n",
       "        [0.00000000e+00],\n",
       "        [0.00000000e+00],\n",
       "        [2.50111043e-12],\n",
       "        [0.00000000e+00],\n",
       "        [2.50111043e-12],\n",
       "        [0.00000000e+00],\n",
       "        [0.00000000e+00],\n",
       "        [0.00000000e+00],\n",
       "        [0.00000000e+00],\n",
       "        [4.54747351e-13],\n",
       "        [0.00000000e+00],\n",
       "        [0.00000000e+00],\n",
       "        [0.00000000e+00],\n",
       "        [0.00000000e+00],\n",
       "        [0.00000000e+00],\n",
       "        [0.00000000e+00],\n",
       "        [0.00000000e+00]])"
      ]
     },
     "execution_count": 8,
     "metadata": {},
     "output_type": "execute_result"
    }
   ],
   "source": [
    "# Change the negative lambda value to zero, and keep the positive lambda value\n",
    "new_lambda = np.matrix([0,0,0,0,0,0,0,0,0,2.50111043e-12,0,2.50111043e-12,0,0,0,0,4.54747351e-13,0,0,0,0,0,0,0]).reshape(-1,1)\n",
    "\n",
    "# Print new_lambda\n",
    "print(\"!!!!!New lambda value!!!!!\")\n",
    "new_lambda"
   ]
  },
  {
   "cell_type": "code",
   "execution_count": 9,
   "id": "817eb8fb",
   "metadata": {},
   "outputs": [
    {
     "name": "stdout",
     "output_type": "stream",
     "text": [
      "!!!!!New beta value!!!!!\n"
     ]
    },
    {
     "data": {
      "text/plain": [
       "matrix([[26.55664032],\n",
       "        [ 0.37819647],\n",
       "        [ 0.5629484 ]])"
      ]
     },
     "execution_count": 9,
     "metadata": {},
     "output_type": "execute_result"
    }
   ],
   "source": [
    "# Calculate new beta\n",
    "new_beta = np.dot(np.linalg.pinv(np.dot(X.transpose(),X)),(np.dot(X.transpose(),Y)+np.dot(0.5*X.transpose(),new_lambda)))\n",
    "\n",
    "# Print new_beta\n",
    "print(\"!!!!!New beta value!!!!!\")\n",
    "new_beta"
   ]
  },
  {
   "cell_type": "code",
   "execution_count": 10,
   "id": "ce0b5c95",
   "metadata": {},
   "outputs": [
    {
     "name": "stdout",
     "output_type": "stream",
     "text": [
      "!!!!!Prediction!!!!!\n"
     ]
    },
    {
     "data": {
      "text/plain": [
       "matrix([[ 81.26473915],\n",
       "        [111.13577478],\n",
       "        [103.05236003],\n",
       "        [ 88.59176095],\n",
       "        [ 89.68288734],\n",
       "        [ 82.34717293],\n",
       "        [ 87.03551206],\n",
       "        [ 90.79139893],\n",
       "        [ 84.01863292],\n",
       "        [132.62563988],\n",
       "        [106.50828387],\n",
       "        [114.81342821],\n",
       "        [ 95.52320109],\n",
       "        [105.81494641],\n",
       "        [113.00937191],\n",
       "        [110.76627091],\n",
       "        [162.94441281],\n",
       "        [196.85170589],\n",
       "        [155.28045031],\n",
       "        [131.8670397 ],\n",
       "        [194.7325086 ],\n",
       "        [162.06190892],\n",
       "        [143.16947072],\n",
       "        [141.11112166]])"
      ]
     },
     "execution_count": 10,
     "metadata": {},
     "output_type": "execute_result"
    }
   ],
   "source": [
    "prediction = np.dot(X,new_beta)\n",
    "print(\"!!!!!Prediction!!!!!\")\n",
    "prediction"
   ]
  }
 ],
 "metadata": {
  "kernelspec": {
   "display_name": "Python 3 (ipykernel)",
   "language": "python",
   "name": "python3"
  },
  "language_info": {
   "codemirror_mode": {
    "name": "ipython",
    "version": 3
   },
   "file_extension": ".py",
   "mimetype": "text/x-python",
   "name": "python",
   "nbconvert_exporter": "python",
   "pygments_lexer": "ipython3",
   "version": "3.8.8"
  }
 },
 "nbformat": 4,
 "nbformat_minor": 5
}
